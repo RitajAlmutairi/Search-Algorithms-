{
  "cells": [
    {
      "cell_type": "markdown",
      "metadata": {
        "id": "q7D6y5A6OlFC"
      },
      "source": [
        "#Optimization and Regression Project\n",
        "### Local Search code"
      ]
    },
    {
      "cell_type": "code",
      "execution_count": 7,
      "metadata": {
        "id": "e4Dp0jmmSCiP"
      },
      "outputs": [],
      "source": [
        "#Importing requried libraries\n",
        "\n",
        "import random\n",
        "import numpy as np\n"
      ]
    },
    {
      "cell_type": "code",
      "execution_count": 1,
      "metadata": {
        "id": "N5hc9TPnRb1n"
      },
      "outputs": [],
      "source": [
        "#A function thaat calculates the objective function.\n",
        "def objectiveFunction(a,b):\n",
        "\n",
        "  solution = 2400*a+ 2500*b\n",
        "  \n",
        "  return solution"
      ]
    },
    {
      "cell_type": "code",
      "execution_count": 2,
      "metadata": {
        "id": "QaygYmLtOVRY"
      },
      "outputs": [],
      "source": [
        "#This function returns a boolean value , to chack if the values of a and b satisfies the constraints.\n",
        "def check(a,b):\n",
        "\n",
        "  if((5*a + 3*b <= 200) and (2*a + 10*b <= 400) and (a + b <= 100) and (3*a +b<= 400) and (a>=0) and (b>=0)):\n",
        "\n",
        "    return True\n",
        "\n",
        "  else:\n",
        "    \n",
        "    return False\n"
      ]
    },
    {
      "cell_type": "code",
      "execution_count": 3,
      "metadata": {
        "id": "QbIjo48RS-IM"
      },
      "outputs": [],
      "source": [
        "#A function that generates initial solutions.\n",
        "def generateFirstSolution():\n",
        "\n",
        "  for i in range(0,5):\n",
        "\n",
        "    a = random.randint(0,10)\n",
        "\n",
        "    b = random.randint(0,10)\n",
        "\n",
        "    if(check(a,b)):\n",
        "      \n",
        "      return a,b"
      ]
    },
    {
      "cell_type": "code",
      "execution_count": 4,
      "metadata": {
        "id": "3wF_6c3JWDL5"
      },
      "outputs": [],
      "source": [
        "#This function generate the neighbors of a and b \n",
        "def generateNeighbors(a,b):\n",
        "\n",
        "  neigbor = []\n",
        "\n",
        "  while len(neigbor) <= 5:\n",
        "\n",
        "    PackageA = random.randint(a+1, a+2)\n",
        "\n",
        "    PackageB = random.randint(b+1, b+2)\n",
        "\n",
        "    if(check(PackageA,PackageB) and ([PackageA,PackageB] not in neigbor)):\n",
        "      \n",
        "      neigbor.append([PackageA,PackageB])\n",
        "      \n",
        "  return(neigbor)"
      ]
    },
    {
      "cell_type": "code",
      "execution_count": 5,
      "metadata": {
        "id": "SJFG0BadiC8Z"
      },
      "outputs": [],
      "source": [
        "#compare the neighbores and return the max \n",
        "def compare(intial_a, intial_b, intial_objective):\n",
        "  #define varible\n",
        "  max_i = 0\n",
        "  max_j = 0\n",
        "  #generate nighbers and find the objective of each nightber.\n",
        "  max = intial_objective\n",
        "  \n",
        "  Neighbors_array = [] #array of neighor elements of the intial solution\n",
        "\n",
        "  Neighbors_array.append(generateNeighbors(intial_a, intial_b))\n",
        "  print(\"The Neighbors: \",Neighbors_array[0])\n",
        "\n",
        "  #this loop will compare the value of the objective function of the neighbors.\n",
        "  for i in range(len(Neighbors_array[0])):\n",
        "\n",
        "    temp = objectiveFunction(Neighbors_array[0][i][0], Neighbors_array[0][i][1])\n",
        "    \n",
        "    if(temp>max):\n",
        "      max = temp\n",
        "      max_i = Neighbors_array[0][i][0] #  [ [(), (),()] ] \n",
        "      max_j = Neighbors_array[0][i][1]\n",
        "      print()\n",
        "      # Neighbors_array => [ [(a,b), (),()] ] \n",
        "      # Neighbors_array[0] => [(a,b), (),()] \n",
        "      # Neighbors_array[0][0] => (a,b)\n",
        "      # Neighbors_array[0][0][0] => a\n",
        "\n",
        "  return max, max_i, max_j"
      ]
    },
    {
      "cell_type": "code",
      "execution_count": null,
      "metadata": {
        "colab": {
          "base_uri": "https://localhost:8080/"
        },
        "id": "xZm4InSgepPf",
        "outputId": "2fa088cd-abbc-4dee-9503-73b4c62e4448"
      },
      "outputs": [
        {
          "output_type": "stream",
          "name": "stdout",
          "text": [
            "----RESSULTS----\n",
            "\n",
            "The Initial Solution is ( 0 , 0 ) With Objective Function =   2500 \n",
            "\n"
          ]
        }
      ],
      "source": [
        "#Set of best objective function\n",
        "feasibleSolutions = set()\n",
        "#calling required methods \n",
        "intial_a, intial_b= generateFirstSolution()\n",
        "intial_objective = objectiveFunction(intial_a, intial_b)\n",
        "\n",
        "print(\"----RESSULTS----\\n\")\n",
        "\n",
        "print(\"The Initial Solution is (\",intial_a,\",\",intial_a,\") With Objective Function =  \", intial_objective,\"\\n\")\n",
        "\n",
        "for i in range(3):\n",
        "  xx, i, j = compare(intial_a, intial_b, intial_objective)\n",
        "  \n",
        "  #add the maximum to the solution set\n",
        "  feasibleSolutions.add(xx)  \n",
        "\n",
        "\n",
        "print(\"Feasible solution set: \",feasibleSolutions)\n",
        "\n",
        "x = list(feasibleSolutions)\n",
        "max_value = np.max(x)\n",
        "\n",
        "print(\"The Maximume objective function is: \" , max_value , \" of the value (\",i,\", \",j,\")\")\n",
        "\n",
        "\n",
        "\n",
        "# print(\"No. of sales (\",intial_a, \",\" , intial_b, \")\", \"has an objective function: \", intial_objective)"
      ]
    }
  ],
  "metadata": {
    "colab": {
      "collapsed_sections": [],
      "provenance": []
    },
    "kernelspec": {
      "display_name": "Python 3",
      "name": "python3"
    },
    "language_info": {
      "name": "python"
    }
  },
  "nbformat": 4,
  "nbformat_minor": 0
}