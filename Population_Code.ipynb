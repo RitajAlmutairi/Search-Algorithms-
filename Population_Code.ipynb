{
  "nbformat": 4,
  "nbformat_minor": 0,
  "metadata": {
    "colab": {
      "provenance": [],
      "collapsed_sections": []
    },
    "kernelspec": {
      "name": "python3",
      "display_name": "Python 3"
    },
    "language_info": {
      "name": "python"
    }
  },
  "cells": [
    {
      "cell_type": "markdown",
      "source": [
        "#Optimization and Regression Project\n",
        "### Population Search code"
      ],
      "metadata": {
        "id": "H-VxNLJeb--f"
      }
    },
    {
      "cell_type": "code",
      "source": [
        "import random\n",
        "import collections"
      ],
      "metadata": {
        "id": "vjAiimXlevbw"
      },
      "execution_count": null,
      "outputs": []
    },
    {
      "cell_type": "code",
      "source": [
        "# assume an initial values\n",
        "initial_PackageA = [10,1,15,20,3]\n",
        "initial_PackageB = [25,14,2,4,5]\n",
        "\n",
        "population_size = 5\n",
        "\n",
        "#create a map to save the indexes\n",
        "index_Library = {}\n"
      ],
      "metadata": {
        "id": "wQnPdX8ed-uR"
      },
      "execution_count": null,
      "outputs": []
    },
    {
      "cell_type": "code",
      "execution_count": null,
      "metadata": {
        "id": "tueUECD4bvCr"
      },
      "outputs": [],
      "source": [
        "#A function thaat calculates the objective function.\n",
        "def objectiveFunction(a,b):\n",
        "  solution = 2400*a+ 2500*b\n",
        "  return solution"
      ]
    },
    {
      "cell_type": "code",
      "source": [
        "#This function returns a boolean value , to chack if the values of a and b satisfies the constraints.\n",
        "def check(a,b):\n",
        "\n",
        "  if((5*a + 3*b <= 200) and (2*a + 10*b <= 400) and (a + b <= 100) and (3*a +b<= 400) and (a>=0) and (b>=0)):\n",
        "\n",
        "    return True\n",
        "\n",
        "  else:\n",
        "    \n",
        "    return False\n"
      ],
      "metadata": {
        "id": "B2cnQINvcvwd"
      },
      "execution_count": null,
      "outputs": []
    },
    {
      "cell_type": "code",
      "source": [
        "#This function generates populations.\n",
        "\n",
        "def generate_population(a, b):\n",
        "\n",
        "  population = []\n",
        "  index = []\n",
        "  \n",
        "  #generate solutions without break the population size.\n",
        "  for i in range(population_size):\n",
        "    if(check (a[i] , b[i])):\n",
        "      populationObjectve = objectiveFunction(a[i], b[i])\n",
        "\n",
        "      #Checks if it satisfy the constraint.\n",
        "      if(populationObjectve not in population):\n",
        "        #append the value of the objective function to the population array.\n",
        "        population.append(populationObjectve)\n",
        "        index.append([a[i], b[i]])\n",
        "        index_Library[populationObjectve] = [a[i], b[i]]\n",
        "  \n",
        "\n",
        "  return index, population  "
      ],
      "metadata": {
        "id": "h8O1Wq3GPxu1"
      },
      "execution_count": null,
      "outputs": []
    },
    {
      "cell_type": "code",
      "source": [
        "#This function generate the neighbors of a and b \n",
        "def generateNeighbors():\n",
        "\n",
        "  neigbor = []\n",
        "\n",
        "  for i in range (population_size):\n",
        "    \n",
        "    initial_PackageA[i] += 2\n",
        "    initial_PackageB[i] += 2\n",
        "\n",
        "    if(check(initial_PackageA[i],initial_PackageB[i]) and ([initial_PackageA[i],initial_PackageB[i]] not in neigbor)):\n",
        "      neigbor.append([initial_PackageA[i],initial_PackageB[i]])\n",
        "\n",
        "  return neigbor"
      ],
      "metadata": {
        "id": "BEnQpoYvUb8n"
      },
      "execution_count": null,
      "outputs": []
    },
    {
      "cell_type": "code",
      "source": [
        "def Objective(arr):\n",
        "\n",
        "  objectives = []\n",
        "  index = []\n",
        "  for i in range(len(arr)):\n",
        "    # for j in range(2):\n",
        "      objectives.append(objectiveFunction(arr[i][0] , arr[i][1]))\n",
        "      index_i = arr[i][0]\n",
        "      index_j = arr[i][1]\n",
        "      index.append([index_i,index_j])\n",
        "      \n",
        "  return index, objectives"
      ],
      "metadata": {
        "id": "ZFCd0JXkXxGU"
      },
      "execution_count": null,
      "outputs": []
    },
    {
      "cell_type": "code",
      "source": [
        "def selectBest(objectives):\n",
        "  while len(objectives) > population_size:\n",
        "    objectives.remove(min(objectives))\n",
        "  return objectives"
      ],
      "metadata": {
        "id": "YjMi804DhL0A"
      },
      "execution_count": null,
      "outputs": []
    },
    {
      "cell_type": "code",
      "source": [
        "# #generate a population \n",
        "# index2, first_population = generate_population(initial_PackageA, initial_PackageB)\n",
        "\n",
        "# # generate Neighbors \n",
        "# first_neighbors = generateNeighbors()\n",
        "\n",
        "# #find the neighbor's objective \n",
        "# index, neighbor_objective = Objective(first_neighbors)\n",
        "\n",
        "# #select the best objectives\n",
        "# select_best =selectBest(neighbor_objective + first_population)\n",
        "\n",
        "# index_merge = 0\n",
        "# index_merge = index + index2\n"
      ],
      "metadata": {
        "id": "5OaVqNYnRO6K"
      },
      "execution_count": null,
      "outputs": []
    },
    {
      "cell_type": "code",
      "source": [
        "def add_to_puplationList(arr):\n",
        "  populations = []\n",
        "  for i in range(len(arr)):\n",
        "    populations.append(arr)\n",
        "  return populations"
      ],
      "metadata": {
        "id": "GemfS-HpNwNy"
      },
      "execution_count": null,
      "outputs": []
    },
    {
      "cell_type": "code",
      "source": [
        "\n",
        "\n",
        "#generate a population \n",
        "index2, first_population = generate_population(initial_PackageA, initial_PackageB)\n",
        "\n",
        "# generate Neighbors \n",
        "first_neighbors = generateNeighbors()\n",
        "\n",
        "#find the neighbor's objective \n",
        "index, neighbor_objective = Objective(first_neighbors)\n",
        "\n",
        "#select the best objectives\n",
        "select_best =selectBest(neighbor_objective + first_population)\n",
        "\n",
        "index_merge = 0\n",
        "index_merge = index + index2\n",
        "\n",
        "\n",
        "print(\"First Population: \", first_population )\n",
        "\n",
        "populations = []\n",
        "populations.extend(first_population)\n",
        "\n",
        "for x in range(3):\n",
        "      print('\\nLoop Number ', x + 1, ':')\n",
        "      \n",
        "      #Calling\n",
        "            \n",
        "      neighbors= generateNeighbors()\n",
        "\n",
        "      index, neighbor_objective = Objective(neighbors)\n",
        "\n",
        "      x,new_population = generate_population(initial_PackageA, initial_PackageB) \n",
        "      \n",
        "      print('new population:', new_population)\n",
        "\n",
        "      \n",
        "      options = neighbor_objective + populations\n",
        "\n",
        "      # options.sort(reverse=True)\n",
        "      index_merge = index + index2\n",
        "\n",
        "      \n",
        "      print(\"The population before dropping lower values \", options)\n",
        "      print(\"\\n\\t\\t**The poplation after dropping old points** \")\n",
        "      populations = selectBest(options)\n",
        "      populations.sort(reverse=True)\n",
        "      print(\"The Maximume Objective function after dropping :\",populations)\n",
        "\n",
        "      print(\"\\n\") \n",
        "\n",
        "\n",
        "#and sort them \n",
        "index_Library = collections.OrderedDict(sorted(index_Library.items(),reverse=True)) \n",
        "\n",
        "\n",
        "# for i in range(len(populations)):\n",
        "#   x = index_merge[i][0]\n",
        "#   y = index_merge[i][1]\n",
        "#   print(\"\\nThe Maximume objective function is: \" , populations[i] , \" of the value (\",x,\", \",y,\")\")"
      ],
      "metadata": {
        "id": "wC91d_56Ut1C",
        "colab": {
          "base_uri": "https://localhost:8080/"
        },
        "outputId": "4d5e3c68-a28b-47ed-a1a5-540a9cff25ed"
      },
      "execution_count": null,
      "outputs": [
        {
          "output_type": "stream",
          "name": "stdout",
          "text": [
            "First Population:  []\n",
            "\n",
            "Loop Number  1 :\n",
            "new population: []\n",
            "The population before dropping lower values  []\n",
            "\n",
            "\t\t**The poplation after dropping old points** \n",
            "The Maximume Objective function after dropping : []\n",
            "\n",
            "\n",
            "\n",
            "Loop Number  2 :\n",
            "new population: []\n",
            "The population before dropping lower values  []\n",
            "\n",
            "\t\t**The poplation after dropping old points** \n",
            "The Maximume Objective function after dropping : []\n",
            "\n",
            "\n",
            "\n",
            "Loop Number  3 :\n",
            "new population: []\n",
            "The population before dropping lower values  []\n",
            "\n",
            "\t\t**The poplation after dropping old points** \n",
            "The Maximume Objective function after dropping : []\n",
            "\n",
            "\n"
          ]
        }
      ]
    },
    {
      "cell_type": "code",
      "source": [
        "#  for y in range(4):\n",
        "\n",
        "#         print(choose_best_of[y], 'with number of roundabouts:', roundabouts[y]\n",
        "\n",
        "#               , 'and number of traffic lights:', traffic_lights[y])"
      ],
      "metadata": {
        "id": "3AmJAajhnz-M"
      },
      "execution_count": null,
      "outputs": []
    },
    {
      "cell_type": "code",
      "source": [
        "\n",
        "index_Library"
      ],
      "metadata": {
        "colab": {
          "base_uri": "https://localhost:8080/"
        },
        "id": "HU4l974aCNw7",
        "outputId": "e715ccda-023e-45bb-8fc6-8fe8cdfd5f7b"
      },
      "execution_count": null,
      "outputs": [
        {
          "output_type": "execute_result",
          "data": {
            "text/plain": [
              "OrderedDict([(125700, [18, 33]),\n",
              "             (117700, [23, 25]),\n",
              "             (115900, [16, 31]),\n",
              "             (115800, [17, 30]),\n",
              "             (109600, [29, 16]),\n",
              "             (106100, [14, 29]),\n",
              "             (106000, [15, 28]),\n",
              "             (99800, [27, 14]),\n",
              "             (98100, [19, 21]),\n",
              "             (97200, [28, 12]),\n",
              "             (96200, [13, 26]),\n",
              "             (88300, [17, 19]),\n",
              "             (87400, [26, 10]),\n",
              "             (86500, [10, 25]),\n",
              "             (80200, [23, 10]),\n",
              "             (78500, [15, 17]),\n",
              "             (77600, [24, 8]),\n",
              "             (76600, [9, 22]),\n",
              "             (70400, [21, 8]),\n",
              "             (66800, [7, 20]),\n",
              "             (60600, [19, 6]),\n",
              "             (58900, [11, 13]),\n",
              "             (58000, [20, 4]),\n",
              "             (57000, [5, 18]),\n",
              "             (49100, [9, 11]),\n",
              "             (41000, [15, 2]),\n",
              "             (39300, [7, 9]),\n",
              "             (37400, [1, 14]),\n",
              "             (19700, [3, 5])])"
            ]
          },
          "metadata": {},
          "execution_count": 121
        }
      ]
    },
    {
      "cell_type": "code",
      "source": [],
      "metadata": {
        "id": "2kmA3_t8fp46"
      },
      "execution_count": null,
      "outputs": []
    }
  ]
}